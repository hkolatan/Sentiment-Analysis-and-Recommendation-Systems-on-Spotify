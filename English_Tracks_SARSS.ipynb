{
 "cells": [
  {
   "cell_type": "code",
   "execution_count": 62,
   "metadata": {},
   "outputs": [],
   "source": [
    "import fasttext\n",
    "import pandas as pd\n",
    "from langdetect import detect, LangDetectException\n",
    "from transformers import pipeline\n",
    "import fasttext\n",
    "from huggingface_hub import hf_hub_download"
   ]
  },
  {
   "cell_type": "code",
   "execution_count": 10,
   "metadata": {
    "tags": []
   },
   "outputs": [
    {
     "name": "stdout",
     "output_type": "stream",
     "text": [
      "Collecting fasttext\n",
      "  Using cached fasttext-0.9.2.tar.gz (68 kB)\n",
      "  Preparing metadata (setup.py): started\n",
      "  Preparing metadata (setup.py): finished with status 'done'\n",
      "Requirement already satisfied: pybind11>=2.2 in c:\\users\\sw4yt\\appdata\\roaming\\jupyterlab-desktop\\jlab_server\\lib\\site-packages (from fasttext) (2.11.1)\n",
      "Requirement already satisfied: setuptools>=0.7.0 in c:\\users\\sw4yt\\appdata\\roaming\\jupyterlab-desktop\\jlab_server\\lib\\site-packages (from fasttext) (67.7.2)\n",
      "Requirement already satisfied: numpy in c:\\users\\sw4yt\\appdata\\roaming\\jupyterlab-desktop\\jlab_server\\lib\\site-packages (from fasttext) (1.24.3)\n",
      "Building wheels for collected packages: fasttext\n",
      "  Building wheel for fasttext (setup.py): started\n",
      "  Building wheel for fasttext (setup.py): finished with status 'error'\n",
      "  Running setup.py clean for fasttext\n",
      "Failed to build fasttext\n"
     ]
    },
    {
     "name": "stderr",
     "output_type": "stream",
     "text": [
      "  error: subprocess-exited-with-error\n",
      "  \n",
      "  python setup.py bdist_wheel did not run successfully.\n",
      "  exit code: 1\n",
      "  \n",
      "  [33 lines of output]\n",
      "  C:\\Users\\Sw4yt\\AppData\\Roaming\\jupyterlab-desktop\\jlab_server\\lib\\site-packages\\setuptools\\dist.py:755: SetuptoolsDeprecationWarning: Invalid dash-separated options\n",
      "  !!\n",
      "  \n",
      "          ********************************************************************************\n",
      "          Usage of dash-separated 'description-file' will not be supported in future\n",
      "          versions. Please use the underscore name 'description_file' instead.\n",
      "  \n",
      "          By 2023-Sep-26, you need to update your project and remove deprecated calls\n",
      "          or your builds will no longer be supported.\n",
      "  \n",
      "          See https://setuptools.pypa.io/en/latest/userguide/declarative_config.html for details.\n",
      "          ********************************************************************************\n",
      "  \n",
      "  !!\n",
      "    opt = self.warn_dash_deprecation(opt, section)\n",
      "  running bdist_wheel\n",
      "  running build\n",
      "  running build_py\n",
      "  creating build\n",
      "  creating build\\lib.win-amd64-cpython-38\n",
      "  creating build\\lib.win-amd64-cpython-38\\fasttext\n",
      "  copying python\\fasttext_module\\fasttext\\FastText.py -> build\\lib.win-amd64-cpython-38\\fasttext\n",
      "  copying python\\fasttext_module\\fasttext\\__init__.py -> build\\lib.win-amd64-cpython-38\\fasttext\n",
      "  creating build\\lib.win-amd64-cpython-38\\fasttext\\util\n",
      "  copying python\\fasttext_module\\fasttext\\util\\util.py -> build\\lib.win-amd64-cpython-38\\fasttext\\util\n",
      "  copying python\\fasttext_module\\fasttext\\util\\__init__.py -> build\\lib.win-amd64-cpython-38\\fasttext\\util\n",
      "  creating build\\lib.win-amd64-cpython-38\\fasttext\\tests\n",
      "  copying python\\fasttext_module\\fasttext\\tests\\test_configurations.py -> build\\lib.win-amd64-cpython-38\\fasttext\\tests\n",
      "  copying python\\fasttext_module\\fasttext\\tests\\test_script.py -> build\\lib.win-amd64-cpython-38\\fasttext\\tests\n",
      "  copying python\\fasttext_module\\fasttext\\tests\\__init__.py -> build\\lib.win-amd64-cpython-38\\fasttext\\tests\n",
      "  running build_ext\n",
      "  building 'fasttext_pybind' extension\n",
      "  error: Microsoft Visual C++ 14.0 or greater is required. Get it with \"Microsoft C++ Build Tools\": https://visualstudio.microsoft.com/visual-cpp-build-tools/\n",
      "  [end of output]\n",
      "  \n",
      "  note: This error originates from a subprocess, and is likely not a problem with pip.\n",
      "  ERROR: Failed building wheel for fasttext\n",
      "ERROR: Could not build wheels for fasttext, which is required to install pyproject.toml-based projects\n"
     ]
    }
   ],
   "source": [
    "!pip install fasttext"
   ]
  },
  {
   "cell_type": "code",
   "execution_count": 50,
   "metadata": {},
   "outputs": [
    {
     "name": "stderr",
     "output_type": "stream",
     "text": [
      "Warning : `load_model` does not return WordVectorModel or SupervisedModel any more, but a `FastText` object which is very similar.\n"
     ]
    }
   ],
   "source": [
    "# Load FastText model\n",
    "model_path = hf_hub_download(repo_id=\"facebook/fasttext-language-identification\", filename=\"model.bin\")\n",
    "fasttext_model = fasttext.load_model(model_path)"
   ]
  },
  {
   "cell_type": "code",
   "execution_count": 51,
   "metadata": {},
   "outputs": [],
   "source": [
    "# Load XLM model\n",
    "model_id = \"juliensimon/xlm-v-base-language-id\"\n",
    "xlm_pipe = pipeline(\"text-classification\", model=model_id)"
   ]
  },
  {
   "cell_type": "code",
   "execution_count": 52,
   "metadata": {},
   "outputs": [],
   "source": [
    "# Load the cleaned dataset\n",
    "df = pd.read_csv(\"after_cleaning.csv\")"
   ]
  },
  {
   "cell_type": "code",
   "execution_count": 53,
   "metadata": {},
   "outputs": [],
   "source": [
    "def detect_language_from_fast_text(text):\n",
    "    value = fasttext_model.predict(text)\n",
    "    return value[0][0].split(\"__label__\")[-1].split(\"_\")[0]"
   ]
  },
  {
   "cell_type": "code",
   "execution_count": 54,
   "metadata": {},
   "outputs": [],
   "source": [
    "def detect_language_from_xlm(text):\n",
    "    result = xlm_pipe(text)\n",
    "    return result[0][\"label\"]"
   ]
  },
  {
   "cell_type": "code",
   "execution_count": 60,
   "metadata": {},
   "outputs": [],
   "source": [
    "def detect_language_from_langdetect(text):\n",
    "    # there is problem \"5,4,3,2,1\"\n",
    "    try:\n",
    "        return detect(text)\n",
    "    except LangDetectException:\n",
    "        return \"unknown\""
   ]
  },
  {
   "cell_type": "code",
   "execution_count": 63,
   "metadata": {},
   "outputs": [],
   "source": [
    "# Detecting language of tracks and filtering out non-english tracks\n",
    "df['lang_langdetect'] = df['name'].apply(detect_language_from_langdetect)\n",
    "df['lang_xlm'] = df['name'].apply(detect_language_from_xlm)\n",
    "df['lang_fasttext'] = df['name'].apply(detect_language_from_fast_text)"
   ]
  },
  {
   "cell_type": "code",
   "execution_count": 64,
   "metadata": {},
   "outputs": [
    {
     "data": {
      "text/html": [
       "<div>\n",
       "<style scoped>\n",
       "    .dataframe tbody tr th:only-of-type {\n",
       "        vertical-align: middle;\n",
       "    }\n",
       "\n",
       "    .dataframe tbody tr th {\n",
       "        vertical-align: top;\n",
       "    }\n",
       "\n",
       "    .dataframe thead th {\n",
       "        text-align: right;\n",
       "    }\n",
       "</style>\n",
       "<table border=\"1\" class=\"dataframe\">\n",
       "  <thead>\n",
       "    <tr style=\"text-align: right;\">\n",
       "      <th></th>\n",
       "      <th>id</th>\n",
       "      <th>name</th>\n",
       "      <th>acousticness</th>\n",
       "      <th>danceability</th>\n",
       "      <th>duration_ms</th>\n",
       "      <th>energy</th>\n",
       "      <th>instrumentalness</th>\n",
       "      <th>key</th>\n",
       "      <th>liveness</th>\n",
       "      <th>loudness</th>\n",
       "      <th>mode</th>\n",
       "      <th>speechiness</th>\n",
       "      <th>tempo</th>\n",
       "      <th>time_signature</th>\n",
       "      <th>valence</th>\n",
       "      <th>popularity</th>\n",
       "      <th>category_name</th>\n",
       "      <th>lang_langdetect</th>\n",
       "      <th>lang_xlm</th>\n",
       "      <th>lang_fasttext</th>\n",
       "    </tr>\n",
       "  </thead>\n",
       "  <tbody>\n",
       "    <tr>\n",
       "      <th>0</th>\n",
       "      <td>087fGGq27BXXpxKAlbBwNM</td>\n",
       "      <td>Rhythm Is A Dancer</td>\n",
       "      <td>0.2730</td>\n",
       "      <td>0.794</td>\n",
       "      <td>225882</td>\n",
       "      <td>0.745</td>\n",
       "      <td>0.000414</td>\n",
       "      <td>9.0</td>\n",
       "      <td>0.143</td>\n",
       "      <td>-11.367</td>\n",
       "      <td>0.0</td>\n",
       "      <td>0.0370</td>\n",
       "      <td>124.249</td>\n",
       "      <td>4.0</td>\n",
       "      <td>0.706</td>\n",
       "      <td>32</td>\n",
       "      <td>relax</td>\n",
       "      <td>cy</td>\n",
       "      <td>English</td>\n",
       "      <td>eng</td>\n",
       "    </tr>\n",
       "    <tr>\n",
       "      <th>1</th>\n",
       "      <td>0CsM8VGDi38kusMv3pxyj1</td>\n",
       "      <td>True</td>\n",
       "      <td>0.4590</td>\n",
       "      <td>0.742</td>\n",
       "      <td>329146</td>\n",
       "      <td>0.533</td>\n",
       "      <td>0.148000</td>\n",
       "      <td>0.0</td>\n",
       "      <td>0.064</td>\n",
       "      <td>-9.098</td>\n",
       "      <td>1.0</td>\n",
       "      <td>0.0288</td>\n",
       "      <td>97.395</td>\n",
       "      <td>4.0</td>\n",
       "      <td>0.391</td>\n",
       "      <td>73</td>\n",
       "      <td>relax</td>\n",
       "      <td>vi</td>\n",
       "      <td>English</td>\n",
       "      <td>eng</td>\n",
       "    </tr>\n",
       "    <tr>\n",
       "      <th>2</th>\n",
       "      <td>0DiWol3AO6WpXZgp0goxAV</td>\n",
       "      <td>One More Time</td>\n",
       "      <td>0.0194</td>\n",
       "      <td>0.613</td>\n",
       "      <td>320357</td>\n",
       "      <td>0.697</td>\n",
       "      <td>0.000000</td>\n",
       "      <td>2.0</td>\n",
       "      <td>0.332</td>\n",
       "      <td>-8.618</td>\n",
       "      <td>1.0</td>\n",
       "      <td>0.1330</td>\n",
       "      <td>122.746</td>\n",
       "      <td>4.0</td>\n",
       "      <td>0.476</td>\n",
       "      <td>80</td>\n",
       "      <td>relax</td>\n",
       "      <td>en</td>\n",
       "      <td>English</td>\n",
       "      <td>eng</td>\n",
       "    </tr>\n",
       "    <tr>\n",
       "      <th>3</th>\n",
       "      <td>0LzeivEHO16a8eBQGlpVkE</td>\n",
       "      <td>Love Shack</td>\n",
       "      <td>0.1100</td>\n",
       "      <td>0.704</td>\n",
       "      <td>262586</td>\n",
       "      <td>0.828</td>\n",
       "      <td>0.000000</td>\n",
       "      <td>5.0</td>\n",
       "      <td>0.747</td>\n",
       "      <td>-7.304</td>\n",
       "      <td>0.0</td>\n",
       "      <td>0.0514</td>\n",
       "      <td>133.496</td>\n",
       "      <td>4.0</td>\n",
       "      <td>0.866</td>\n",
       "      <td>61</td>\n",
       "      <td>relax</td>\n",
       "      <td>en</td>\n",
       "      <td>English</td>\n",
       "      <td>spa</td>\n",
       "    </tr>\n",
       "    <tr>\n",
       "      <th>4</th>\n",
       "      <td>0MHXrqn909p0LRTPsNsGEi</td>\n",
       "      <td>Move on Up</td>\n",
       "      <td>0.4170</td>\n",
       "      <td>0.538</td>\n",
       "      <td>165789</td>\n",
       "      <td>0.969</td>\n",
       "      <td>0.001540</td>\n",
       "      <td>11.0</td>\n",
       "      <td>0.119</td>\n",
       "      <td>-5.626</td>\n",
       "      <td>0.0</td>\n",
       "      <td>0.0906</td>\n",
       "      <td>138.652</td>\n",
       "      <td>4.0</td>\n",
       "      <td>0.928</td>\n",
       "      <td>73</td>\n",
       "      <td>relax</td>\n",
       "      <td>en</td>\n",
       "      <td>English</td>\n",
       "      <td>fin</td>\n",
       "    </tr>\n",
       "  </tbody>\n",
       "</table>\n",
       "</div>"
      ],
      "text/plain": [
       "                       id                name  acousticness  danceability  \\\n",
       "0  087fGGq27BXXpxKAlbBwNM  Rhythm Is A Dancer        0.2730         0.794   \n",
       "1  0CsM8VGDi38kusMv3pxyj1                True        0.4590         0.742   \n",
       "2  0DiWol3AO6WpXZgp0goxAV       One More Time        0.0194         0.613   \n",
       "3  0LzeivEHO16a8eBQGlpVkE          Love Shack        0.1100         0.704   \n",
       "4  0MHXrqn909p0LRTPsNsGEi          Move on Up        0.4170         0.538   \n",
       "\n",
       "   duration_ms  energy  instrumentalness   key  liveness  loudness  mode  \\\n",
       "0       225882   0.745          0.000414   9.0     0.143   -11.367   0.0   \n",
       "1       329146   0.533          0.148000   0.0     0.064    -9.098   1.0   \n",
       "2       320357   0.697          0.000000   2.0     0.332    -8.618   1.0   \n",
       "3       262586   0.828          0.000000   5.0     0.747    -7.304   0.0   \n",
       "4       165789   0.969          0.001540  11.0     0.119    -5.626   0.0   \n",
       "\n",
       "   speechiness    tempo  time_signature  valence  popularity category_name  \\\n",
       "0       0.0370  124.249             4.0    0.706          32         relax   \n",
       "1       0.0288   97.395             4.0    0.391          73         relax   \n",
       "2       0.1330  122.746             4.0    0.476          80         relax   \n",
       "3       0.0514  133.496             4.0    0.866          61         relax   \n",
       "4       0.0906  138.652             4.0    0.928          73         relax   \n",
       "\n",
       "  lang_langdetect lang_xlm lang_fasttext  \n",
       "0              cy  English           eng  \n",
       "1              vi  English           eng  \n",
       "2              en  English           eng  \n",
       "3              en  English           spa  \n",
       "4              en  English           fin  "
      ]
     },
     "execution_count": 64,
     "metadata": {},
     "output_type": "execute_result"
    }
   ],
   "source": [
    "df.head()"
   ]
  },
  {
   "cell_type": "code",
   "execution_count": 68,
   "metadata": {},
   "outputs": [
    {
     "name": "stdout",
     "output_type": "stream",
     "text": [
      "Total tracks: 15211\n"
     ]
    }
   ],
   "source": [
    "print(f\"Total tracks: {len(df)}\")"
   ]
  },
  {
   "cell_type": "code",
   "execution_count": 82,
   "metadata": {},
   "outputs": [
    {
     "name": "stdout",
     "output_type": "stream",
     "text": [
      "LangDetect model detected 6109 English songs.\n",
      "XLM model detected 9309 English songs.\n",
      "FastText model detected 7201 English songs.\n"
     ]
    }
   ],
   "source": [
    "# Counted English tracks for LangDetect\n",
    "count_langdetect_en = df[df['lang_langdetect'] == 'en'].shape[0]\n",
    "\n",
    "# Counted English tracks for XLM\n",
    "count_xlm_en = df[df['lang_xlm'] == 'English'].shape[0]\n",
    "\n",
    "# Counted English tracks for FastText\n",
    "count_fasttext_en = df[df['lang_fasttext'] == 'eng'].shape[0]\n",
    "\n",
    "print(f\"LangDetect model detected {count_langdetect_en} English songs.\")\n",
    "print(f\"XLM model detected {count_xlm_en} English songs.\")\n",
    "print(f\"FastText model detected {count_fasttext_en} English songs.\")"
   ]
  },
  {
   "cell_type": "code",
   "execution_count": 85,
   "metadata": {},
   "outputs": [],
   "source": [
    "# Purpose: To create a csv file of only english tracks\n",
    "df_eng = df[df['lang_xlm'] == 'English'].copy()\n",
    "df_eng.drop(['lang_xlm', 'lang_langdetect', 'lang_fasttext'], axis=1, inplace=True)\n",
    "df_eng.reset_index(drop=True, inplace=True)\n",
    "df_eng.to_csv(\"english_tracks.csv\", index=False)\n"
   ]
  }
 ],
 "metadata": {
  "kernelspec": {
   "display_name": "Python 3 (ipykernel)",
   "language": "python",
   "name": "python3"
  },
  "language_info": {
   "codemirror_mode": {
    "name": "ipython",
    "version": 3
   },
   "file_extension": ".py",
   "mimetype": "text/x-python",
   "name": "python",
   "nbconvert_exporter": "python",
   "pygments_lexer": "ipython3",
   "version": "3.8.16"
  }
 },
 "nbformat": 4,
 "nbformat_minor": 4
}
