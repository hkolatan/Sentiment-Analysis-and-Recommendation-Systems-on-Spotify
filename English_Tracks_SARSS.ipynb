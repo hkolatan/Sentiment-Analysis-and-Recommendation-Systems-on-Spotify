{
 "cells": [
  {
   "cell_type": "code",
   "execution_count": 1,
   "metadata": {
    "tags": []
   },
   "outputs": [],
   "source": [
    "import fasttext\n",
    "import pandas as pd\n",
    "from langdetect import detect, LangDetectException\n",
    "from transformers import pipeline\n",
    "from huggingface_hub import hf_hub_download"
   ]
  },
  {
   "cell_type": "code",
   "execution_count": 2,
   "metadata": {
    "tags": []
   },
   "outputs": [
    {
     "name": "stderr",
     "output_type": "stream",
     "text": [
      "Warning : `load_model` does not return WordVectorModel or SupervisedModel any more, but a `FastText` object which is very similar.\n"
     ]
    }
   ],
   "source": [
    "# Load FastText model\n",
    "model_path = hf_hub_download(repo_id=\"facebook/fasttext-language-identification\", filename=\"model.bin\")\n",
    "fasttext_model = fasttext.load_model(model_path)"
   ]
  },
  {
   "cell_type": "code",
   "execution_count": null,
   "metadata": {
    "tags": []
   },
   "outputs": [
    {
     "data": {
      "application/vnd.jupyter.widget-view+json": {
       "model_id": "aa9a57ca4d1040d39317f759e0f03c1c",
       "version_major": 2,
       "version_minor": 0
      },
      "text/plain": [
       "Downloading model.safetensors:   0%|          | 0.00/3.11G [00:00<?, ?B/s]"
      ]
     },
     "metadata": {},
     "output_type": "display_data"
    }
   ],
   "source": [
    "# Load XLM model\n",
    "model_id = \"juliensimon/xlm-v-base-language-id\"\n",
    "xlm_pipe = pipeline(\"text-classification\", model=model_id)"
   ]
  },
  {
   "cell_type": "code",
   "execution_count": null,
   "metadata": {
    "tags": []
   },
   "outputs": [],
   "source": [
    "# Load the cleaned dataset\n",
    "df = pd.read_csv(\"datasets/spotify_after_cleaning.csv\")"
   ]
  },
  {
   "cell_type": "code",
   "execution_count": null,
   "metadata": {
    "tags": []
   },
   "outputs": [],
   "source": [
    "def detect_language_from_fast_text(text):\n",
    "    value = fasttext_model.predict(text)\n",
    "    return value[0][0].split(\"__label__\")[-1].split(\"_\")[0]"
   ]
  },
  {
   "cell_type": "code",
   "execution_count": null,
   "metadata": {
    "tags": []
   },
   "outputs": [],
   "source": [
    "def detect_language_from_xlm(text):\n",
    "    result = xlm_pipe(text)\n",
    "    return result[0][\"label\"]"
   ]
  },
  {
   "cell_type": "code",
   "execution_count": null,
   "metadata": {
    "tags": []
   },
   "outputs": [],
   "source": [
    "def detect_language_from_langdetect(text):\n",
    "    # there is problem \"5,4,3,2,1\"\n",
    "    try:\n",
    "        return detect(text)\n",
    "    except LangDetectException:\n",
    "        return \"unknown\""
   ]
  },
  {
   "cell_type": "code",
   "execution_count": null,
   "metadata": {
    "tags": []
   },
   "outputs": [],
   "source": [
    "# Detecting language of tracks and filtering out non-english tracks\n",
    "df['lang_langdetect'] = df['name'].apply(detect_language_from_langdetect)\n",
    "df['lang_xlm'] = df['name'].apply(detect_language_from_xlm)\n",
    "df['lang_fasttext'] = df['name'].apply(detect_language_from_fast_text)"
   ]
  },
  {
   "cell_type": "code",
   "execution_count": null,
   "metadata": {
    "tags": []
   },
   "outputs": [],
   "source": [
    "df.head()"
   ]
  },
  {
   "cell_type": "code",
   "execution_count": null,
   "metadata": {
    "tags": []
   },
   "outputs": [],
   "source": [
    "print(f\"Total tracks: {len(df)}\")"
   ]
  },
  {
   "cell_type": "code",
   "execution_count": null,
   "metadata": {},
   "outputs": [],
   "source": [
    "# Counted English tracks for LangDetect\n",
    "count_langdetect_en = df[df['lang_langdetect'] == 'en'].shape[0]\n",
    "\n",
    "# Counted English tracks for XLM\n",
    "count_xlm_en = df[df['lang_xlm'] == 'English'].shape[0]\n",
    "\n",
    "# Counted English tracks for FastText\n",
    "count_fasttext_en = df[df['lang_fasttext'] == 'eng'].shape[0]\n",
    "\n",
    "print(f\"LangDetect model detected {count_langdetect_en} English songs.\")\n",
    "print(f\"XLM model detected {count_xlm_en} English songs.\")\n",
    "print(f\"FastText model detected {count_fasttext_en} English songs.\")"
   ]
  },
  {
   "cell_type": "code",
   "execution_count": null,
   "metadata": {
    "tags": []
   },
   "outputs": [],
   "source": [
    "# Purpose: To create a csv file of only english tracks\n",
    "df_eng = df[df['lang_xlm'] == 'English'].copy()\n",
    "df_eng.drop(['lang_xlm', 'lang_langdetect', 'lang_fasttext'], axis=1, inplace=True)\n",
    "df_eng.reset_index(drop=True, inplace=True)\n",
    "df_eng.to_csv(\"english_tracks.csv\", index=False)\n"
   ]
  }
 ],
 "metadata": {
  "kernelspec": {
   "display_name": "Python 3 (ipykernel)",
   "language": "python",
   "name": "python3"
  },
  "language_info": {
   "codemirror_mode": {
    "name": "ipython",
    "version": 3
   },
   "file_extension": ".py",
   "mimetype": "text/x-python",
   "name": "python",
   "nbconvert_exporter": "python",
   "pygments_lexer": "ipython3",
   "version": "3.8.16"
  }
 },
 "nbformat": 4,
 "nbformat_minor": 4
}
